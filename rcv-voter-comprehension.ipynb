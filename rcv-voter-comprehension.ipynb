{
 "cells": [
  {
   "cell_type": "markdown",
   "id": "4e116bb2-a31b-4195-b585-2f96b18ec439",
   "metadata": {},
   "source": [
    "The project aims to identify invalid and misused vote rates through raw cast votes data in an election using RCV, to be compared to a global norm of invalid rates in other voting systems. The code includes cleaning code for generating the variables for the types of invalid and misused vote patterns. Then, summary tables and visualizations are presented to get a sense of the distribution of invalid and misused vote rates.  \n",
    "**This analysis is part of a larger research project on voter comprehension of ranked choice voting.**\n",
    "\n",
    "The Utah city council data can be found on [https://doi.org/10.7910/DVN/04LOQX](https://doi.org/10.7910/DVN/04LOQX).  \n",
    "The global invalid vote rates can be found on [https://www.idea.int/data-tools/data/question?question_id=9117&database_theme=293](https://www.idea.int/data-tools/data/question?question_id=9117&database_theme=293)."
   ]
  },
  {
   "cell_type": "markdown",
   "id": "d5dec90f-66e8-4543-89c1-58b4af12fabc",
   "metadata": {},
   "source": [
    "# Utah City Council Cast Votes Data"
   ]
  },
  {
   "cell_type": "markdown",
   "id": "d719a4d0-36b3-4853-9da6-66754b6a8bc0",
   "metadata": {},
   "source": [
    "## 1. Setting up"
   ]
  },
  {
   "cell_type": "code",
   "execution_count": 1,
   "id": "9a2e9699-9ba3-47bc-abc6-e75dd9517394",
   "metadata": {},
   "outputs": [],
   "source": [
    "import pandas as pd\n",
    "import numpy as np\n",
    "import matplotlib.pyplot as plt\n",
    "import warnings\n",
    "warnings.filterwarnings('ignore')\n",
    "import os"
   ]
  },
  {
   "cell_type": "code",
   "execution_count": 2,
   "id": "74dc9ec3-aa75-4d0a-af92-5ba1f9311925",
   "metadata": {},
   "outputs": [],
   "source": [
    "# read in dataframes\n",
    "df_wh = pd.read_csv('WoodlandHills_11022021_CityCouncil.csv')\n",
    "df_sv = pd.read_csv('Springville_11022021_CityCouncil4yr.csv')\n",
    "df_vy = pd.read_csv('Vineyard_11022021_CityCouncil.csv')\n",
    "df_genola = pd.read_csv('Genola_11022021_CityCouncil.csv')\n",
    "df_moab = pd.read_csv('Moab_11022021_CityCouncil.csv')\n",
    "df_lehi = pd.read_csv('Lehi_11022021_CityCouncil.csv')\n",
    "dfs = [df_wh, df_sv, df_vy, df_genola, df_moab, df_lehi]\n",
    "cities = ['Woodland Hills', 'Springville', 'Vineyard', 'Genola', 'Moab', 'Lehi']"
   ]
  },
  {
   "cell_type": "markdown",
   "id": "28903714-a50b-4f69-8964-6815d21ff767",
   "metadata": {},
   "source": [
    "## 2. Cleaning"
   ]
  },
  {
   "cell_type": "code",
   "execution_count": 3,
   "id": "acd0ec3d-9b87-44d6-9dec-c2d63d9beba8",
   "metadata": {},
   "outputs": [],
   "source": [
    "# cleaning code\n",
    "df_moab.rename(columns={'Vote':'Index'}, inplace=True)  # to match others\n",
    "\n",
    "def skipped_ranking(x, ranks):\n",
    "    '''determines if the voter skips a rank then proceeds to name a candidate in one of the following ranks'''\n",
    "    if x['overvote']==1 or x['candidate_multiple_ranks']==1:\n",
    "        return 0\n",
    "    else:\n",
    "        combined_ranks = x['combined_ranks']\n",
    "        if 'skipped' in combined_ranks:\n",
    "            first_skipped_index = combined_ranks.index('skipped')\n",
    "            if first_skipped_index==len(ranks)-1:  # if first skip is the last element\n",
    "                return 0\n",
    "            else:\n",
    "                rest_of_list = combined_ranks[first_skipped_index+1:]  # get ranks after first skip\n",
    "                if len(set(rest_of_list)) == 1 and 'skipped' in set(rest_of_list):  # if the rest are skip\n",
    "                    return 0\n",
    "                else:  # something after skip is in the rest\n",
    "                    return 1\n",
    "        else: # if no skip then return 0\n",
    "            return 0\n",
    "\n",
    "def candidate_multiple_ranks(x):\n",
    "    '''determines if a candidate in mentioned in more than 1 rank'''\n",
    "    if x['overvote']==1:\n",
    "        return 0\n",
    "    else:\n",
    "        combined_ranks = x['combined_ranks']\n",
    "        remove_skips = [i for i in combined_ranks if i!='skipped']\n",
    "        count_elements = [remove_skips.count(i) for i in remove_skips]\n",
    "        test_list = [i for i in count_elements if i>1]\n",
    "        if len(test_list) > 0:  # if there are elements that have more than 1 count in the remove_skips list\n",
    "            return 1\n",
    "        else:\n",
    "            return 0\n",
    "\n",
    "def ballot_misuse_type(x):\n",
    "    if x['overvote']==1:\n",
    "        return 'Overvote'\n",
    "    elif x['candidate_multiple_ranks']==1:\n",
    "        return 'Candidate in Multiple Ranks'\n",
    "    elif x['skipped_ranking']==1:\n",
    "        return 'Skipped Ranking'\n",
    "    elif x['undervote']==1:\n",
    "        return 'Undervote'\n",
    "    else:\n",
    "        return None\n",
    "\n",
    "def invalid_type(x):\n",
    "    if x['overvote']==1:\n",
    "        return 'Overvote'\n",
    "    elif x['candidate_multiple_ranks']==1:\n",
    "        return 'Candidate in multiple ranks'\n",
    "    elif x['undervote']==1:\n",
    "        return 'Undervote'\n",
    "    else:\n",
    "        return None\n",
    "\n",
    "def cleaner(df):\n",
    "    ranks = [i for i in df.columns if 'rank' in i]\n",
    "    df['combined_ranks'] = df[ranks].apply(lambda x: ','.join(x).split(','), axis=1)\n",
    "    df['overvote']  = (df[ranks] == 'overvote').any(axis=1).astype(int)\n",
    "    df['candidate_multiple_ranks'] = df.apply(candidate_multiple_ranks, axis=1)\n",
    "    df['skipped_ranking'] = df.apply(lambda x: skipped_ranking(x, ranks), axis=1)\n",
    "    df['undervote'] = (df[ranks] == 'skipped').all(axis=1).astype(int)\n",
    "    \n",
    "    df['misuse_type'] = df.apply(ballot_misuse_type, axis=1)\n",
    "    df['misuse'] = df[['skipped_ranking', 'candidate_multiple_ranks', 'overvote', 'undervote']].sum(axis=1)\n",
    "    \n",
    "    df['invalid_type'] = df.apply(invalid_type, axis=1)\n",
    "    df['invalid'] = df[['candidate_multiple_ranks', 'overvote', 'undervote']].sum(axis=1)\n",
    "    df.drop(columns=['Index', 'combined_ranks'], inplace=True)\n",
    "    return df\n",
    "\n",
    "for df in dfs:  # apply cleaning code\n",
    "    df = cleaner(df)\n",
    "\n",
    "for df, city in zip(dfs, cities):  # create city variable for merging\n",
    "    df['city'] = city\n",
    "\n",
    "# create merged df\n",
    "df = pd.concat(dfs, axis=0)"
   ]
  },
  {
   "cell_type": "code",
   "execution_count": 4,
   "id": "dc8fc0ba-7f08-41a5-8f6d-b3cff52d54b4",
   "metadata": {},
   "outputs": [
    {
     "data": {
      "text/plain": [
       "True"
      ]
     },
     "execution_count": 4,
     "metadata": {},
     "output_type": "execute_result"
    }
   ],
   "source": [
    "# check for cleaning validity\n",
    "def invalid_exclusive(dfs):\n",
    "    '''ensures all dfs mutually exclusive invalid types, i.e. invalid binary column has no value greater than 1'''\n",
    "    truths = []\n",
    "    for df in dfs:\n",
    "        truths.append(sum(df['invalid'].value_counts().index)==1)\n",
    "    return sum(truths)==len(dfs)\n",
    "\n",
    "invalid_exclusive(dfs)"
   ]
  },
  {
   "cell_type": "markdown",
   "id": "4a2814cd-caa5-440e-aca3-75cc10643018",
   "metadata": {},
   "source": [
    "## 3. Analysis"
   ]
  },
  {
   "cell_type": "code",
   "execution_count": 5,
   "id": "50b2e4b7-5b7e-4d1b-8214-b83604b1a913",
   "metadata": {},
   "outputs": [
    {
     "data": {
      "text/html": [
       "<div>\n",
       "<style scoped>\n",
       "    .dataframe tbody tr th:only-of-type {\n",
       "        vertical-align: middle;\n",
       "    }\n",
       "\n",
       "    .dataframe tbody tr th {\n",
       "        vertical-align: top;\n",
       "    }\n",
       "\n",
       "    .dataframe thead th {\n",
       "        text-align: right;\n",
       "    }\n",
       "</style>\n",
       "<table border=\"1\" class=\"dataframe\">\n",
       "  <thead>\n",
       "    <tr style=\"text-align: right;\">\n",
       "      <th></th>\n",
       "      <th>Votes</th>\n",
       "      <th>Overvotes</th>\n",
       "      <th>Candidate in Multiple Ranks</th>\n",
       "      <th>Skipped Ranking</th>\n",
       "      <th>Undervotes</th>\n",
       "      <th>Total Misused Votes</th>\n",
       "      <th>Total Invalid Votes</th>\n",
       "      <th>Proportion Misused</th>\n",
       "      <th>Proportion Invalid</th>\n",
       "    </tr>\n",
       "    <tr>\n",
       "      <th>City Council</th>\n",
       "      <th></th>\n",
       "      <th></th>\n",
       "      <th></th>\n",
       "      <th></th>\n",
       "      <th></th>\n",
       "      <th></th>\n",
       "      <th></th>\n",
       "      <th></th>\n",
       "      <th></th>\n",
       "    </tr>\n",
       "  </thead>\n",
       "  <tbody>\n",
       "    <tr>\n",
       "      <th>Genola</th>\n",
       "      <td>393</td>\n",
       "      <td>6</td>\n",
       "      <td>6</td>\n",
       "      <td>134</td>\n",
       "      <td>9</td>\n",
       "      <td>155</td>\n",
       "      <td>21</td>\n",
       "      <td>0.39</td>\n",
       "      <td>0.05</td>\n",
       "    </tr>\n",
       "    <tr>\n",
       "      <th>Lehi</th>\n",
       "      <td>11471</td>\n",
       "      <td>378</td>\n",
       "      <td>324</td>\n",
       "      <td>132</td>\n",
       "      <td>269</td>\n",
       "      <td>1103</td>\n",
       "      <td>971</td>\n",
       "      <td>0.10</td>\n",
       "      <td>0.08</td>\n",
       "    </tr>\n",
       "    <tr>\n",
       "      <th>Moab</th>\n",
       "      <td>1847</td>\n",
       "      <td>38</td>\n",
       "      <td>39</td>\n",
       "      <td>481</td>\n",
       "      <td>16</td>\n",
       "      <td>574</td>\n",
       "      <td>93</td>\n",
       "      <td>0.31</td>\n",
       "      <td>0.05</td>\n",
       "    </tr>\n",
       "    <tr>\n",
       "      <th>Springville</th>\n",
       "      <td>6307</td>\n",
       "      <td>175</td>\n",
       "      <td>136</td>\n",
       "      <td>64</td>\n",
       "      <td>160</td>\n",
       "      <td>535</td>\n",
       "      <td>471</td>\n",
       "      <td>0.08</td>\n",
       "      <td>0.07</td>\n",
       "    </tr>\n",
       "    <tr>\n",
       "      <th>Vineyard</th>\n",
       "      <td>1540</td>\n",
       "      <td>4</td>\n",
       "      <td>15</td>\n",
       "      <td>9</td>\n",
       "      <td>20</td>\n",
       "      <td>48</td>\n",
       "      <td>39</td>\n",
       "      <td>0.03</td>\n",
       "      <td>0.03</td>\n",
       "    </tr>\n",
       "    <tr>\n",
       "      <th>Woodland Hills</th>\n",
       "      <td>658</td>\n",
       "      <td>11</td>\n",
       "      <td>9</td>\n",
       "      <td>1</td>\n",
       "      <td>2</td>\n",
       "      <td>23</td>\n",
       "      <td>22</td>\n",
       "      <td>0.03</td>\n",
       "      <td>0.03</td>\n",
       "    </tr>\n",
       "    <tr>\n",
       "      <th>Total</th>\n",
       "      <td>22216</td>\n",
       "      <td>612</td>\n",
       "      <td>529</td>\n",
       "      <td>821</td>\n",
       "      <td>476</td>\n",
       "      <td>2438</td>\n",
       "      <td>1617</td>\n",
       "      <td>0.11</td>\n",
       "      <td>0.07</td>\n",
       "    </tr>\n",
       "  </tbody>\n",
       "</table>\n",
       "</div>"
      ],
      "text/plain": [
       "                Votes  Overvotes Candidate in Multiple Ranks Skipped Ranking  \\\n",
       "City Council                                                                   \n",
       "Genola            393          6                           6             134   \n",
       "Lehi            11471        378                         324             132   \n",
       "Moab             1847         38                          39             481   \n",
       "Springville      6307        175                         136              64   \n",
       "Vineyard         1540          4                          15               9   \n",
       "Woodland Hills    658         11                           9               1   \n",
       "Total           22216        612                         529             821   \n",
       "\n",
       "               Undervotes Total Misused Votes Total Invalid Votes  \\\n",
       "City Council                                                        \n",
       "Genola                  9                 155                  21   \n",
       "Lehi                  269                1103                 971   \n",
       "Moab                   16                 574                  93   \n",
       "Springville           160                 535                 471   \n",
       "Vineyard               20                  48                  39   \n",
       "Woodland Hills          2                  23                  22   \n",
       "Total                 476                2438                1617   \n",
       "\n",
       "                Proportion Misused  Proportion Invalid  \n",
       "City Council                                            \n",
       "Genola                        0.39                0.05  \n",
       "Lehi                          0.10                0.08  \n",
       "Moab                          0.31                0.05  \n",
       "Springville                   0.08                0.07  \n",
       "Vineyard                      0.03                0.03  \n",
       "Woodland Hills                0.03                0.03  \n",
       "Total                         0.11                0.07  "
      ]
     },
     "execution_count": 5,
     "metadata": {},
     "output_type": "execute_result"
    }
   ],
   "source": [
    "# votes and invalid votes across cities (& total)\n",
    "summary = df.groupby('city').agg(\n",
    "    Votes=('rank1', 'size'),  # the size of any column, the number of unique votes\n",
    "    Overvotes=('overvote', 'sum'),\n",
    "    candidate_multiple_ranks=('candidate_multiple_ranks', 'sum'),\n",
    "    skipped_ranking=('skipped_ranking', 'sum'),\n",
    "    Undervotes=('undervote', 'sum'),\n",
    "    total_misused_ballots=('misuse', 'sum'),\n",
    "    total_invalid_votes=('invalid', 'sum')\n",
    ").reset_index(\n",
    "    names='City Council'\n",
    ").rename(columns = {\n",
    "    'candidate_multiple_ranks':'Candidate in Multiple Ranks',\n",
    "    'skipped_ranking':'Skipped Ranking',\n",
    "    'total_misused_ballots':'Total Misused Votes',\n",
    "    'total_invalid_votes':'Total Invalid Votes'\n",
    "                   })\n",
    "\n",
    "# create sum row\n",
    "row = summary.sum()\n",
    "row['City Council'] = 'Total'\n",
    "\n",
    "# add sum row\n",
    "summary = pd.concat([summary, pd.DataFrame(row).T], axis=0).set_index('City Council')\n",
    "summary['Proportion Misused'] = summary['Total Misused Votes'] / summary['Votes']\n",
    "summary['Proportion Invalid'] = summary['Total Invalid Votes'] / summary['Votes']\n",
    "\n",
    "# # adjust data types\n",
    "summary['Proportion Misused'] = summary['Proportion Misused'].astype(float).round(2)\n",
    "summary['Proportion Invalid'] = summary['Proportion Invalid'].astype(float).round(2)\n",
    "for i in list(summary.columns)[0:2]:\n",
    "    summary[i] = summary[i].astype(int)\n",
    "summary"
   ]
  },
  {
   "cell_type": "code",
   "execution_count": 6,
   "id": "b894d894-4ea2-4455-9d53-7d08691f08c5",
   "metadata": {},
   "outputs": [
    {
     "data": {
      "text/plain": [
       "0.20200459862239584"
      ]
     },
     "execution_count": 6,
     "metadata": {},
     "output_type": "execute_result"
    }
   ],
   "source": [
    "sr = summary.iloc[0:-1, 3]\n",
    "pi = summary.iloc[0:-1, -1]\n",
    "sr.corr(pi)"
   ]
  },
  {
   "cell_type": "code",
   "execution_count": 7,
   "id": "69fc304c-121f-434a-a899-08b3e4de07d2",
   "metadata": {},
   "outputs": [
    {
     "data": {
      "image/png": "[encoded data removed]",
      "text/plain": [
       "<Figure size 640x480 with 1 Axes>"
      ]
     },
     "metadata": {},
     "output_type": "display_data"
    }
   ],
   "source": [
    "plt.scatter(pi, sr)\n",
    "plt.xlabel('Proportion of Invalid Votes')\n",
    "plt.ylabel('Number of Skipped Ranking Votes')\n",
    "plt.title('Skipped Ranking across Proportion of Invalid Votes');"
   ]
  },
  {
   "cell_type": "code",
   "execution_count": 8,
   "id": "bfff6c5a-80e9-4cfc-9e4d-9fdc0c10d759",
   "metadata": {},
   "outputs": [
    {
     "data": {
      "image/png": "[encoded data removed]",
      "text/plain": [
       "<Figure size 640x480 with 1 Axes>"
      ]
     },
     "metadata": {},
     "output_type": "display_data"
    }
   ],
   "source": [
    "# total invalid votes bar plot\n",
    "grouped = df.groupby('misuse_type').size()\n",
    "colors = ['red' if i in [0, 1, 3] else 'blue' for i in range(len(grouped))]\n",
    "\n",
    "# Create the bar plot\n",
    "plt.bar(grouped.index, grouped.values, color=colors)\n",
    "\n",
    "# Adding legend\n",
    "custom_legend = [plt.Rectangle((0,0),1,1, color='red', ec='k')]\n",
    "\n",
    "plt.legend(custom_legend, ['Considered Invalid'])\n",
    "\n",
    "# Add labels and title\n",
    "plt.xlabel('Misuse Type')\n",
    "plt.ylabel('Frequency')\n",
    "plt.xticks(rotation=25)\n",
    "plt.title('Total Misused Votes in Utah City Councils')\n",
    "\n",
    "# Show the plot\n",
    "plt.show()"
   ]
  },
  {
   "cell_type": "markdown",
   "id": "b92614fd-7962-4d00-ac1f-60478fcc8e6a",
   "metadata": {},
   "source": [
    "# IDEA Invalid Votes Data"
   ]
  },
  {
   "cell_type": "markdown",
   "id": "739bd4ff-3182-4a33-84cf-e81bec6d4d76",
   "metadata": {},
   "source": [
    "## 1. Read-in Data"
   ]
  },
  {
   "cell_type": "code",
   "execution_count": 9,
   "id": "fe389d9d-ff7c-4c0c-9049-2af85bc7c43d",
   "metadata": {},
   "outputs": [],
   "source": [
    "invalid_pres = pd.read_excel('idea_invalid_presidential.xlsx')\n",
    "invalid_parl = pd.read_excel('idea_invalid_parliamentary.xlsx')"
   ]
  },
  {
   "cell_type": "markdown",
   "id": "f0f66185-c5b9-473e-a413-b18c7281be7c",
   "metadata": {},
   "source": [
    "## 2. Cleaning"
   ]
  },
  {
   "cell_type": "code",
   "execution_count": 10,
   "id": "906c2255-9687-4308-880c-41b1aa95c016",
   "metadata": {},
   "outputs": [],
   "source": [
    "# remove percentage sign\n",
    "def fixer(x):\n",
    "    return float(x[:-1])\n",
    "\n",
    "for i in [invalid_pres, invalid_parl]:\n",
    "    i.iloc[:,-1] = i.iloc[:,-1].apply(lambda x: fixer(x))\n",
    "    i.rename(columns={\n",
    "        'Value (Numeric)':'invalid_percent'\n",
    "    }, inplace=True)  # rename\n",
    "\n",
    "# prepare for merging\n",
    "invalid_pres['Election Type'] = ['Presidential' for i in range(len(invalid_pres))]\n",
    "invalid_parl['Election Type'] = ['Parliamentary' for i in range(len(invalid_parl))]\n",
    "\n",
    "# merge\n",
    "merged = pd.concat([invalid_pres, invalid_parl], axis=0)\n",
    "\n",
    "# convert to datetime\n",
    "merged['Year'] = pd.to_datetime(merged['Year'], format='mixed', dayfirst=False)"
   ]
  },
  {
   "cell_type": "markdown",
   "id": "0615b87d-d18d-412d-8708-5fface36a169",
   "metadata": {},
   "source": [
    "## 3. Analysis"
   ]
  },
  {
   "cell_type": "code",
   "execution_count": 11,
   "id": "538a8daa-2de5-468c-a123-5b7d58a58639",
   "metadata": {},
   "outputs": [
    {
     "data": {
      "text/html": [
       "<div>\n",
       "<style scoped>\n",
       "    .dataframe tbody tr th:only-of-type {\n",
       "        vertical-align: middle;\n",
       "    }\n",
       "\n",
       "    .dataframe tbody tr th {\n",
       "        vertical-align: top;\n",
       "    }\n",
       "\n",
       "    .dataframe thead th {\n",
       "        text-align: right;\n",
       "    }\n",
       "</style>\n",
       "<table border=\"1\" class=\"dataframe\">\n",
       "  <thead>\n",
       "    <tr style=\"text-align: right;\">\n",
       "      <th></th>\n",
       "      <th>Minimum Date</th>\n",
       "      <th>Maximum Date</th>\n",
       "      <th>Median Date</th>\n",
       "    </tr>\n",
       "    <tr>\n",
       "      <th>Election Type</th>\n",
       "      <th></th>\n",
       "      <th></th>\n",
       "      <th></th>\n",
       "    </tr>\n",
       "  </thead>\n",
       "  <tbody>\n",
       "    <tr>\n",
       "      <th>Parliamentary</th>\n",
       "      <td>1958-11-30</td>\n",
       "      <td>2024-05-08</td>\n",
       "      <td>2020-01-01</td>\n",
       "    </tr>\n",
       "    <tr>\n",
       "      <th>Presidential</th>\n",
       "      <td>1951-05-06</td>\n",
       "      <td>2024-05-08</td>\n",
       "      <td>2016-05-17</td>\n",
       "    </tr>\n",
       "  </tbody>\n",
       "</table>\n",
       "</div>"
      ],
      "text/plain": [
       "              Minimum Date Maximum Date Median Date\n",
       "Election Type                                      \n",
       "Parliamentary   1958-11-30   2024-05-08  2020-01-01\n",
       "Presidential    1951-05-06   2024-05-08  2016-05-17"
      ]
     },
     "execution_count": 11,
     "metadata": {},
     "output_type": "execute_result"
    }
   ],
   "source": [
    "year_stats = merged.groupby('Election Type').agg(\n",
    "    minyear = ('Year', 'min'),\n",
    "    maxyear = ('Year', 'max'),\n",
    "    medianyear = ('Year', 'median')\n",
    ").rename(columns={\n",
    "    'minyear':'Minimum Date', \n",
    "    'maxyear':'Maximum Date',\n",
    "    'medianyear':'Median Date'\n",
    "\n",
    "})\n",
    "year_stats['Median Date'] = year_stats['Median Date'].dt.floor('D')\n",
    "year_stats"
   ]
  },
  {
   "cell_type": "code",
   "execution_count": 12,
   "id": "3834e7c2-79a6-44e9-91a8-2a9a8afe41d4",
   "metadata": {},
   "outputs": [
    {
     "data": {
      "text/html": [
       "<div>\n",
       "<style scoped>\n",
       "    .dataframe tbody tr th:only-of-type {\n",
       "        vertical-align: middle;\n",
       "    }\n",
       "\n",
       "    .dataframe tbody tr th {\n",
       "        vertical-align: top;\n",
       "    }\n",
       "\n",
       "    .dataframe thead th {\n",
       "        text-align: right;\n",
       "    }\n",
       "</style>\n",
       "<table border=\"1\" class=\"dataframe\">\n",
       "  <thead>\n",
       "    <tr style=\"text-align: right;\">\n",
       "      <th></th>\n",
       "      <th>Minimum Invalid Percent</th>\n",
       "      <th>Maximum Invalid Percent</th>\n",
       "      <th>Mean Invalid Percent</th>\n",
       "      <th>Standard Deviation Invalid Percent</th>\n",
       "      <th>Median Invalid Percent</th>\n",
       "    </tr>\n",
       "    <tr>\n",
       "      <th>Election Type</th>\n",
       "      <th></th>\n",
       "      <th></th>\n",
       "      <th></th>\n",
       "      <th></th>\n",
       "      <th></th>\n",
       "    </tr>\n",
       "  </thead>\n",
       "  <tbody>\n",
       "    <tr>\n",
       "      <th>Parliamentary</th>\n",
       "      <td>0.01</td>\n",
       "      <td>25.83</td>\n",
       "      <td>3.79</td>\n",
       "      <td>4.25</td>\n",
       "      <td>2.49</td>\n",
       "    </tr>\n",
       "    <tr>\n",
       "      <th>Presidential</th>\n",
       "      <td>0.02</td>\n",
       "      <td>27.93</td>\n",
       "      <td>3.67</td>\n",
       "      <td>4.30</td>\n",
       "      <td>2.05</td>\n",
       "    </tr>\n",
       "  </tbody>\n",
       "</table>\n",
       "</div>"
      ],
      "text/plain": [
       "               Minimum Invalid Percent  Maximum Invalid Percent  \\\n",
       "Election Type                                                     \n",
       "Parliamentary                     0.01                    25.83   \n",
       "Presidential                      0.02                    27.93   \n",
       "\n",
       "               Mean Invalid Percent  Standard Deviation Invalid Percent  \\\n",
       "Election Type                                                             \n",
       "Parliamentary                  3.79                                4.25   \n",
       "Presidential                   3.67                                4.30   \n",
       "\n",
       "               Median Invalid Percent  \n",
       "Election Type                          \n",
       "Parliamentary                    2.49  \n",
       "Presidential                     2.05  "
      ]
     },
     "execution_count": 12,
     "metadata": {},
     "output_type": "execute_result"
    }
   ],
   "source": [
    "inv_stats = merged.groupby('Election Type').agg(\n",
    "    min_inv = ('invalid_percent', 'min'),\n",
    "    max_inv = ('invalid_percent', 'max'),\n",
    "    mean_inv = ('invalid_percent', 'mean'),\n",
    "    std_inv = ('invalid_percent', 'std'),\n",
    "    median_inv = ('invalid_percent', 'median')).applymap(lambda x: round(x,2))\n",
    "inv_stats.columns = ['Minimum Invalid Percent', 'Maximum Invalid Percent',\n",
    "                     'Mean Invalid Percent', 'Standard Deviation Invalid Percent',\n",
    "                     'Median Invalid Percent']\n",
    "inv_stats"
   ]
  },
  {
   "cell_type": "code",
   "execution_count": 13,
   "id": "eb752488-2d30-4dbf-bfb3-0e6ea7e2456e",
   "metadata": {},
   "outputs": [
    {
     "data": {
      "image/png": "[encoded data removed]",
      "text/plain": [
       "<Figure size 640x480 with 1 Axes>"
      ]
     },
     "metadata": {},
     "output_type": "display_data"
    }
   ],
   "source": [
    "plt.hist(invalid_pres.iloc[:,-2], alpha=0.8, color='red', label='Presidential', bins=30)\n",
    "plt.hist(invalid_parl.iloc[:,-2], alpha=0.4, color='blue', label='Parliamentary', bins=30)\n",
    "plt.legend()\n",
    "plt.xlabel('Percentage Invalid Votes')\n",
    "plt.ylabel('Frequency')\n",
    "plt.title('Invalid Votes in Global Elections');"
   ]
  },
  {
   "cell_type": "code",
   "execution_count": 14,
   "id": "901bfae5-3ecf-4ecc-ac3a-8e028b16e92e",
   "metadata": {},
   "outputs": [
    {
     "data": {
      "text/html": [
       "<div>\n",
       "<style scoped>\n",
       "    .dataframe tbody tr th:only-of-type {\n",
       "        vertical-align: middle;\n",
       "    }\n",
       "\n",
       "    .dataframe tbody tr th {\n",
       "        vertical-align: top;\n",
       "    }\n",
       "\n",
       "    .dataframe thead th {\n",
       "        text-align: right;\n",
       "    }\n",
       "</style>\n",
       "<table border=\"1\" class=\"dataframe\">\n",
       "  <thead>\n",
       "    <tr style=\"text-align: right;\">\n",
       "      <th></th>\n",
       "      <th>Metric</th>\n",
       "      <th>Value</th>\n",
       "    </tr>\n",
       "  </thead>\n",
       "  <tbody>\n",
       "    <tr>\n",
       "      <th>0</th>\n",
       "      <td>Observed difference in means</td>\n",
       "      <td>-1.68</td>\n",
       "    </tr>\n",
       "    <tr>\n",
       "      <th>1</th>\n",
       "      <td>P-value</td>\n",
       "      <td>0.27</td>\n",
       "    </tr>\n",
       "  </tbody>\n",
       "</table>\n",
       "</div>"
      ],
      "text/plain": [
       "                         Metric  Value\n",
       "0  Observed difference in means  -1.68\n",
       "1                       P-value   0.27"
      ]
     },
     "execution_count": 14,
     "metadata": {},
     "output_type": "execute_result"
    }
   ],
   "source": [
    "idea_invalid_combined = list(invalid_pres['invalid_percent']) + list(invalid_parl['invalid_percent'])\n",
    "\n",
    "def permutation_test(group1, group2, num_permutations=10000):\n",
    "    # Compute the observed difference in means\n",
    "    observed_diff = np.mean(group1) - np.mean(group2)\n",
    "    \n",
    "    # Combine the data\n",
    "    combined = np.concatenate((group1, group2))\n",
    "    \n",
    "    # Initialize a counter for the number of times the permuted test statistic is as extreme as the observed\n",
    "    extreme_count = 0\n",
    "    \n",
    "    # Perform the permutations\n",
    "    for _ in range(num_permutations):\n",
    "        # Shuffle the combined data\n",
    "        np.random.shuffle(combined)\n",
    "        \n",
    "        # Split the shuffled data into two groups\n",
    "        new_group1 = combined[:len(group1)]\n",
    "        new_group2 = combined[len(group1):]\n",
    "        \n",
    "        # Compute the difference in means for the permuted data\n",
    "        permuted_diff = np.mean(new_group1) - np.mean(new_group2)\n",
    "        \n",
    "        # Check if the permuted difference is as extreme as the observed difference\n",
    "        if np.abs(permuted_diff) >= np.abs(observed_diff):\n",
    "            extreme_count += 1\n",
    "    \n",
    "    # Compute the p-value\n",
    "    p_value = extreme_count / num_permutations\n",
    "    return observed_diff, p_value\n",
    "\n",
    "# Run the permutation test\n",
    "observed_diff, p_value = permutation_test(list(idea_invalid_combined), list(summary['Proportion Invalid'] * 100))\n",
    "\n",
    "# Create a DataFrame to display the results in a table\n",
    "results_df = pd.DataFrame({\n",
    "    \"Metric\": [\"Observed difference in means\", \"P-value\"],\n",
    "    \"Value\": [observed_diff, p_value]\n",
    "})\n",
    "\n",
    "results_df.round(2)"
   ]
  }
 ],
 "metadata": {
  "kernelspec": {
   "display_name": "Python 3 (ipykernel)",
   "language": "python",
   "name": "python3"
  },
  "language_info": {
   "codemirror_mode": {
    "name": "ipython",
    "version": 3
   },
   "file_extension": ".py",
   "mimetype": "text/x-python",
   "name": "python",
   "nbconvert_exporter": "python",
   "pygments_lexer": "ipython3",
   "version": "3.11.5"
  }
 },
 "nbformat": 4,
 "nbformat_minor": 5
}
